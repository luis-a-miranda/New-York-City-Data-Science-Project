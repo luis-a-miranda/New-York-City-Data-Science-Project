{
 "cells": [
  {
   "cell_type": "markdown",
   "metadata": {},
   "source": [
    "# Part 2\n",
    "\n",
    "**Problem: Should the Department of Housing Preservation and Development of New York City focus on any particular set of boroughs, ZIP codes, or street (where the complaints are severe) for the specific type of complaints you identified in response to Problem 1?**"
   ]
  },
  {
   "cell_type": "markdown",
   "metadata": {},
   "source": [
    "Import libraries:"
   ]
  },
  {
   "cell_type": "code",
   "execution_count": 2,
   "metadata": {},
   "outputs": [],
   "source": [
    "import pandas as pd\n",
    "import numpy as np\n",
    "%matplotlib inline\n",
    "import matplotlib as mpl\n",
    "import matplotlib.pyplot as plt\n",
    "import matplotlib.patches as mpatches\n",
    "import matplotlib.image as mpimg\n",
    "import folium\n"
   ]
  },
  {
   "cell_type": "markdown",
   "metadata": {},
   "source": [
    "Import 311 NYC dataset:"
   ]
  },
  {
   "cell_type": "code",
   "execution_count": 2,
   "metadata": {},
   "outputs": [
    {
     "data": {
      "text/html": [
       "<div>\n",
       "<style scoped>\n",
       "    .dataframe tbody tr th:only-of-type {\n",
       "        vertical-align: middle;\n",
       "    }\n",
       "\n",
       "    .dataframe tbody tr th {\n",
       "        vertical-align: top;\n",
       "    }\n",
       "\n",
       "    .dataframe thead th {\n",
       "        text-align: right;\n",
       "    }\n",
       "</style>\n",
       "<table border=\"1\" class=\"dataframe\">\n",
       "  <thead>\n",
       "    <tr style=\"text-align: right;\">\n",
       "      <th></th>\n",
       "      <th>created_date</th>\n",
       "      <th>unique_key</th>\n",
       "      <th>complaint_type</th>\n",
       "      <th>incident_zip</th>\n",
       "      <th>incident_address</th>\n",
       "      <th>street_name</th>\n",
       "      <th>address_type</th>\n",
       "      <th>city</th>\n",
       "      <th>resolution_description</th>\n",
       "      <th>borough</th>\n",
       "      <th>latitude</th>\n",
       "      <th>longitude</th>\n",
       "      <th>closed_date</th>\n",
       "      <th>location_type</th>\n",
       "    </tr>\n",
       "  </thead>\n",
       "  <tbody>\n",
       "    <tr>\n",
       "      <th>0</th>\n",
       "      <td>2020-10-25 12:36:48</td>\n",
       "      <td>47979046</td>\n",
       "      <td>WATER LEAK</td>\n",
       "      <td>10468.0</td>\n",
       "      <td>2715 WEBB AVENUE</td>\n",
       "      <td>WEBB AVENUE</td>\n",
       "      <td>ADDRESS</td>\n",
       "      <td>BRONX</td>\n",
       "      <td>The following complaint conditions are still o...</td>\n",
       "      <td>BRONX</td>\n",
       "      <td>40.869648</td>\n",
       "      <td>-73.902030</td>\n",
       "      <td>NaN</td>\n",
       "      <td>RESIDENTIAL BUILDING</td>\n",
       "    </tr>\n",
       "    <tr>\n",
       "      <th>1</th>\n",
       "      <td>2020-10-25 15:56:03</td>\n",
       "      <td>47979693</td>\n",
       "      <td>HEAT/HOT WATER</td>\n",
       "      <td>11422.0</td>\n",
       "      <td>148-56 262 PLACE</td>\n",
       "      <td>262 PLACE</td>\n",
       "      <td>ADDRESS</td>\n",
       "      <td>Rosedale</td>\n",
       "      <td>The following complaint conditions are still o...</td>\n",
       "      <td>QUEENS</td>\n",
       "      <td>40.653249</td>\n",
       "      <td>-73.725543</td>\n",
       "      <td>NaN</td>\n",
       "      <td>RESIDENTIAL BUILDING</td>\n",
       "    </tr>\n",
       "    <tr>\n",
       "      <th>2</th>\n",
       "      <td>2020-10-25 02:06:31</td>\n",
       "      <td>47977676</td>\n",
       "      <td>HEAT/HOT WATER</td>\n",
       "      <td>10028.0</td>\n",
       "      <td>221 EAST   83 STREET</td>\n",
       "      <td>EAST   83 STREET</td>\n",
       "      <td>ADDRESS</td>\n",
       "      <td>NEW YORK</td>\n",
       "      <td>The following complaint conditions are still o...</td>\n",
       "      <td>MANHATTAN</td>\n",
       "      <td>40.776599</td>\n",
       "      <td>-73.954748</td>\n",
       "      <td>NaN</td>\n",
       "      <td>RESIDENTIAL BUILDING</td>\n",
       "    </tr>\n",
       "    <tr>\n",
       "      <th>3</th>\n",
       "      <td>2020-10-25 16:47:11</td>\n",
       "      <td>47979139</td>\n",
       "      <td>HEAT/HOT WATER</td>\n",
       "      <td>11213.0</td>\n",
       "      <td>1689 CARROLL STREET</td>\n",
       "      <td>CARROLL STREET</td>\n",
       "      <td>ADDRESS</td>\n",
       "      <td>BROOKLYN</td>\n",
       "      <td>The following complaint conditions are still o...</td>\n",
       "      <td>BROOKLYN</td>\n",
       "      <td>40.666077</td>\n",
       "      <td>-73.930341</td>\n",
       "      <td>NaN</td>\n",
       "      <td>RESIDENTIAL BUILDING</td>\n",
       "    </tr>\n",
       "    <tr>\n",
       "      <th>4</th>\n",
       "      <td>2020-10-25 10:21:45</td>\n",
       "      <td>47978127</td>\n",
       "      <td>HEAT/HOT WATER</td>\n",
       "      <td>11213.0</td>\n",
       "      <td>930 PROSPECT PLACE</td>\n",
       "      <td>PROSPECT PLACE</td>\n",
       "      <td>ADDRESS</td>\n",
       "      <td>BROOKLYN</td>\n",
       "      <td>The following complaint conditions are still o...</td>\n",
       "      <td>BROOKLYN</td>\n",
       "      <td>40.674070</td>\n",
       "      <td>-73.945831</td>\n",
       "      <td>NaN</td>\n",
       "      <td>RESIDENTIAL BUILDING</td>\n",
       "    </tr>\n",
       "  </tbody>\n",
       "</table>\n",
       "</div>"
      ],
      "text/plain": [
       "         created_date  unique_key  complaint_type  incident_zip  \\\n",
       "0 2020-10-25 12:36:48    47979046      WATER LEAK       10468.0   \n",
       "1 2020-10-25 15:56:03    47979693  HEAT/HOT WATER       11422.0   \n",
       "2 2020-10-25 02:06:31    47977676  HEAT/HOT WATER       10028.0   \n",
       "3 2020-10-25 16:47:11    47979139  HEAT/HOT WATER       11213.0   \n",
       "4 2020-10-25 10:21:45    47978127  HEAT/HOT WATER       11213.0   \n",
       "\n",
       "       incident_address       street_name address_type      city  \\\n",
       "0      2715 WEBB AVENUE       WEBB AVENUE      ADDRESS     BRONX   \n",
       "1      148-56 262 PLACE         262 PLACE      ADDRESS  Rosedale   \n",
       "2  221 EAST   83 STREET  EAST   83 STREET      ADDRESS  NEW YORK   \n",
       "3   1689 CARROLL STREET    CARROLL STREET      ADDRESS  BROOKLYN   \n",
       "4    930 PROSPECT PLACE    PROSPECT PLACE      ADDRESS  BROOKLYN   \n",
       "\n",
       "                              resolution_description    borough   latitude  \\\n",
       "0  The following complaint conditions are still o...      BRONX  40.869648   \n",
       "1  The following complaint conditions are still o...     QUEENS  40.653249   \n",
       "2  The following complaint conditions are still o...  MANHATTAN  40.776599   \n",
       "3  The following complaint conditions are still o...   BROOKLYN  40.666077   \n",
       "4  The following complaint conditions are still o...   BROOKLYN  40.674070   \n",
       "\n",
       "   longitude closed_date         location_type  \n",
       "0 -73.902030         NaN  RESIDENTIAL BUILDING  \n",
       "1 -73.725543         NaN  RESIDENTIAL BUILDING  \n",
       "2 -73.954748         NaN  RESIDENTIAL BUILDING  \n",
       "3 -73.930341         NaN  RESIDENTIAL BUILDING  \n",
       "4 -73.945831         NaN  RESIDENTIAL BUILDING  "
      ]
     },
     "execution_count": 2,
     "metadata": {},
     "output_type": "execute_result"
    }
   ],
   "source": [
    "#https://data.cityofnewyork.us/resource/fhrw-4uyv.csv?$limit=100000000&Agency=HPD&$select=created_date,unique_key,complaint_type,incident_zip,incident_address,street_name,address_type,city,resolution_description,borough,latitude,longitude,closed_date,location_type,status\n",
    "path = 'fhrw-4uyv.csv'\n",
    "\n",
    "#import only for relevant columns\n",
    "columns_used = ['unique_key', 'created_date', 'complaint_type', 'incident_zip', 'incident_address', 'street_name', 'address_type', 'city', 'resolution_description', 'borough', 'latitude', 'longitude', 'closed_date', 'location_type']\n",
    "\n",
    "#total number of rows defined as 10 million\n",
    "df_311 = pd.read_csv(path, parse_dates = ['created_date'], usecols = columns_used, nrows=10000000) \n",
    "df_311.head()\n"
   ]
  },
  {
   "cell_type": "markdown",
   "metadata": {},
   "source": [
    "Create dataframe of the 'HEAT/HOT WATER' complaint type:"
   ]
  },
  {
   "cell_type": "code",
   "execution_count": 3,
   "metadata": {},
   "outputs": [
    {
     "data": {
      "text/html": [
       "<div>\n",
       "<style scoped>\n",
       "    .dataframe tbody tr th:only-of-type {\n",
       "        vertical-align: middle;\n",
       "    }\n",
       "\n",
       "    .dataframe tbody tr th {\n",
       "        vertical-align: top;\n",
       "    }\n",
       "\n",
       "    .dataframe thead th {\n",
       "        text-align: right;\n",
       "    }\n",
       "</style>\n",
       "<table border=\"1\" class=\"dataframe\">\n",
       "  <thead>\n",
       "    <tr style=\"text-align: right;\">\n",
       "      <th></th>\n",
       "      <th>created_date</th>\n",
       "      <th>unique_key</th>\n",
       "      <th>complaint_type</th>\n",
       "      <th>incident_zip</th>\n",
       "      <th>incident_address</th>\n",
       "      <th>street_name</th>\n",
       "      <th>address_type</th>\n",
       "      <th>city</th>\n",
       "      <th>resolution_description</th>\n",
       "      <th>borough</th>\n",
       "      <th>latitude</th>\n",
       "      <th>longitude</th>\n",
       "      <th>closed_date</th>\n",
       "      <th>location_type</th>\n",
       "    </tr>\n",
       "  </thead>\n",
       "  <tbody>\n",
       "    <tr>\n",
       "      <th>0</th>\n",
       "      <td>2020-10-25 15:56:03</td>\n",
       "      <td>47979693</td>\n",
       "      <td>HEAT/HOT WATER</td>\n",
       "      <td>11422.0</td>\n",
       "      <td>148-56 262 PLACE</td>\n",
       "      <td>262 PLACE</td>\n",
       "      <td>ADDRESS</td>\n",
       "      <td>Rosedale</td>\n",
       "      <td>The following complaint conditions are still o...</td>\n",
       "      <td>QUEENS</td>\n",
       "      <td>40.653249</td>\n",
       "      <td>-73.725543</td>\n",
       "      <td>NaN</td>\n",
       "      <td>RESIDENTIAL BUILDING</td>\n",
       "    </tr>\n",
       "    <tr>\n",
       "      <th>1</th>\n",
       "      <td>2020-10-25 02:06:31</td>\n",
       "      <td>47977676</td>\n",
       "      <td>HEAT/HOT WATER</td>\n",
       "      <td>10028.0</td>\n",
       "      <td>221 EAST   83 STREET</td>\n",
       "      <td>EAST   83 STREET</td>\n",
       "      <td>ADDRESS</td>\n",
       "      <td>NEW YORK</td>\n",
       "      <td>The following complaint conditions are still o...</td>\n",
       "      <td>MANHATTAN</td>\n",
       "      <td>40.776599</td>\n",
       "      <td>-73.954748</td>\n",
       "      <td>NaN</td>\n",
       "      <td>RESIDENTIAL BUILDING</td>\n",
       "    </tr>\n",
       "    <tr>\n",
       "      <th>2</th>\n",
       "      <td>2020-10-25 16:47:11</td>\n",
       "      <td>47979139</td>\n",
       "      <td>HEAT/HOT WATER</td>\n",
       "      <td>11213.0</td>\n",
       "      <td>1689 CARROLL STREET</td>\n",
       "      <td>CARROLL STREET</td>\n",
       "      <td>ADDRESS</td>\n",
       "      <td>BROOKLYN</td>\n",
       "      <td>The following complaint conditions are still o...</td>\n",
       "      <td>BROOKLYN</td>\n",
       "      <td>40.666077</td>\n",
       "      <td>-73.930341</td>\n",
       "      <td>NaN</td>\n",
       "      <td>RESIDENTIAL BUILDING</td>\n",
       "    </tr>\n",
       "    <tr>\n",
       "      <th>3</th>\n",
       "      <td>2020-10-25 10:21:45</td>\n",
       "      <td>47978127</td>\n",
       "      <td>HEAT/HOT WATER</td>\n",
       "      <td>11213.0</td>\n",
       "      <td>930 PROSPECT PLACE</td>\n",
       "      <td>PROSPECT PLACE</td>\n",
       "      <td>ADDRESS</td>\n",
       "      <td>BROOKLYN</td>\n",
       "      <td>The following complaint conditions are still o...</td>\n",
       "      <td>BROOKLYN</td>\n",
       "      <td>40.674070</td>\n",
       "      <td>-73.945831</td>\n",
       "      <td>NaN</td>\n",
       "      <td>RESIDENTIAL BUILDING</td>\n",
       "    </tr>\n",
       "    <tr>\n",
       "      <th>4</th>\n",
       "      <td>2020-10-25 10:13:54</td>\n",
       "      <td>47979868</td>\n",
       "      <td>HEAT/HOT WATER</td>\n",
       "      <td>10031.0</td>\n",
       "      <td>618 WEST  136 STREET</td>\n",
       "      <td>WEST  136 STREET</td>\n",
       "      <td>ADDRESS</td>\n",
       "      <td>NEW YORK</td>\n",
       "      <td>The complaint you filed is a duplicate of a co...</td>\n",
       "      <td>MANHATTAN</td>\n",
       "      <td>40.821047</td>\n",
       "      <td>-73.955260</td>\n",
       "      <td>NaN</td>\n",
       "      <td>RESIDENTIAL BUILDING</td>\n",
       "    </tr>\n",
       "  </tbody>\n",
       "</table>\n",
       "</div>"
      ],
      "text/plain": [
       "         created_date  unique_key  complaint_type  incident_zip  \\\n",
       "0 2020-10-25 15:56:03    47979693  HEAT/HOT WATER       11422.0   \n",
       "1 2020-10-25 02:06:31    47977676  HEAT/HOT WATER       10028.0   \n",
       "2 2020-10-25 16:47:11    47979139  HEAT/HOT WATER       11213.0   \n",
       "3 2020-10-25 10:21:45    47978127  HEAT/HOT WATER       11213.0   \n",
       "4 2020-10-25 10:13:54    47979868  HEAT/HOT WATER       10031.0   \n",
       "\n",
       "       incident_address       street_name address_type      city  \\\n",
       "0      148-56 262 PLACE         262 PLACE      ADDRESS  Rosedale   \n",
       "1  221 EAST   83 STREET  EAST   83 STREET      ADDRESS  NEW YORK   \n",
       "2   1689 CARROLL STREET    CARROLL STREET      ADDRESS  BROOKLYN   \n",
       "3    930 PROSPECT PLACE    PROSPECT PLACE      ADDRESS  BROOKLYN   \n",
       "4  618 WEST  136 STREET  WEST  136 STREET      ADDRESS  NEW YORK   \n",
       "\n",
       "                              resolution_description    borough   latitude  \\\n",
       "0  The following complaint conditions are still o...     QUEENS  40.653249   \n",
       "1  The following complaint conditions are still o...  MANHATTAN  40.776599   \n",
       "2  The following complaint conditions are still o...   BROOKLYN  40.666077   \n",
       "3  The following complaint conditions are still o...   BROOKLYN  40.674070   \n",
       "4  The complaint you filed is a duplicate of a co...  MANHATTAN  40.821047   \n",
       "\n",
       "   longitude closed_date         location_type  \n",
       "0 -73.725543         NaN  RESIDENTIAL BUILDING  \n",
       "1 -73.954748         NaN  RESIDENTIAL BUILDING  \n",
       "2 -73.930341         NaN  RESIDENTIAL BUILDING  \n",
       "3 -73.945831         NaN  RESIDENTIAL BUILDING  \n",
       "4 -73.955260         NaN  RESIDENTIAL BUILDING  "
      ]
     },
     "execution_count": 3,
     "metadata": {},
     "output_type": "execute_result"
    }
   ],
   "source": [
    "df_311_top_complaint = df_311[df_311['complaint_type'] == 'HEAT/HOT WATER'].reset_index(drop = True)\n",
    "df_311_top_complaint.head() \n"
   ]
  },
  {
   "cell_type": "markdown",
   "metadata": {},
   "source": [
    "**Focus on Borough**\n",
    "\n",
    "Check unique values for 'borough':"
   ]
  },
  {
   "cell_type": "code",
   "execution_count": 4,
   "metadata": {},
   "outputs": [
    {
     "data": {
      "text/plain": [
       "array(['QUEENS', 'MANHATTAN', 'BROOKLYN', 'BRONX', 'STATEN ISLAND',\n",
       "       'Unspecified'], dtype=object)"
      ]
     },
     "execution_count": 4,
     "metadata": {},
     "output_type": "execute_result"
    }
   ],
   "source": [
    "df_311_top_complaint['borough'].unique()\n"
   ]
  },
  {
   "cell_type": "code",
   "execution_count": 5,
   "metadata": {},
   "outputs": [
    {
     "data": {
      "text/html": [
       "<div>\n",
       "<style scoped>\n",
       "    .dataframe tbody tr th:only-of-type {\n",
       "        vertical-align: middle;\n",
       "    }\n",
       "\n",
       "    .dataframe tbody tr th {\n",
       "        vertical-align: top;\n",
       "    }\n",
       "\n",
       "    .dataframe thead th {\n",
       "        text-align: right;\n",
       "    }\n",
       "</style>\n",
       "<table border=\"1\" class=\"dataframe\">\n",
       "  <thead>\n",
       "    <tr style=\"text-align: right;\">\n",
       "      <th></th>\n",
       "      <th>created_date</th>\n",
       "      <th>unique_key</th>\n",
       "      <th>complaint_type</th>\n",
       "      <th>incident_zip</th>\n",
       "      <th>incident_address</th>\n",
       "      <th>street_name</th>\n",
       "      <th>address_type</th>\n",
       "      <th>city</th>\n",
       "      <th>resolution_description</th>\n",
       "      <th>borough</th>\n",
       "      <th>latitude</th>\n",
       "      <th>longitude</th>\n",
       "      <th>closed_date</th>\n",
       "      <th>location_type</th>\n",
       "    </tr>\n",
       "  </thead>\n",
       "  <tbody>\n",
       "    <tr>\n",
       "      <th>928803</th>\n",
       "      <td>2018-03-10 11:16:48</td>\n",
       "      <td>38662770</td>\n",
       "      <td>HEAT/HOT WATER</td>\n",
       "      <td>10463.0</td>\n",
       "      <td>38 WEST 225 STREET</td>\n",
       "      <td>WEST 225 STREET</td>\n",
       "      <td>ADDRESS</td>\n",
       "      <td>NEW YORK</td>\n",
       "      <td>The Department of Housing Preservation and Dev...</td>\n",
       "      <td>Unspecified</td>\n",
       "      <td>40.873635</td>\n",
       "      <td>-73.907926</td>\n",
       "      <td>2018-03-12T13:34:51.000</td>\n",
       "      <td>RESIDENTIAL BUILDING</td>\n",
       "    </tr>\n",
       "  </tbody>\n",
       "</table>\n",
       "</div>"
      ],
      "text/plain": [
       "              created_date  unique_key  complaint_type  incident_zip  \\\n",
       "928803 2018-03-10 11:16:48    38662770  HEAT/HOT WATER       10463.0   \n",
       "\n",
       "          incident_address      street_name address_type      city  \\\n",
       "928803  38 WEST 225 STREET  WEST 225 STREET      ADDRESS  NEW YORK   \n",
       "\n",
       "                                   resolution_description      borough  \\\n",
       "928803  The Department of Housing Preservation and Dev...  Unspecified   \n",
       "\n",
       "         latitude  longitude              closed_date         location_type  \n",
       "928803  40.873635 -73.907926  2018-03-12T13:34:51.000  RESIDENTIAL BUILDING  "
      ]
     },
     "execution_count": 5,
     "metadata": {},
     "output_type": "execute_result"
    }
   ],
   "source": [
    "df_311_top_complaint[df_311_top_complaint['borough']=='Unspecified']\n"
   ]
  },
  {
   "cell_type": "markdown",
   "metadata": {},
   "source": [
    "After checking google maps, the 'latitude' and 'longitude' values correspond to Bronx 'borough' (31-49 W 225th St, The Bronx, NY 10463, EUA):"
   ]
  },
  {
   "cell_type": "code",
   "execution_count": 6,
   "metadata": {},
   "outputs": [],
   "source": [
    "df_311_top_complaint.at[928803, 'borough'] ='BRONX'\n"
   ]
  },
  {
   "cell_type": "markdown",
   "metadata": {},
   "source": [
    "Plot New York City map:"
   ]
  },
  {
   "cell_type": "code",
   "execution_count": 3,
   "metadata": {},
   "outputs": [
    {
     "data": {
      "text/html": [
       "<div style=\"width:100%;\"><div style=\"position:relative;width:100%;height:0;padding-bottom:60%;\"><span style=\"color:#565656\">Make this Notebook Trusted to load map: File -> Trust Notebook</span><iframe src=\"about:blank\" style=\"position:absolute;width:100%;height:100%;left:0;top:0;border:none !important;\" data-html=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 onload=\"this.contentDocument.open();this.contentDocument.write(atob(this.getAttribute('data-html')));this.contentDocument.close();\" allowfullscreen webkitallowfullscreen mozallowfullscreen></iframe></div></div>"
      ],
      "text/plain": [
       "<folium.folium.Map at 0x1ccf9e59b20>"
      ]
     },
     "execution_count": 3,
     "metadata": {},
     "output_type": "execute_result"
    }
   ],
   "source": [
    "#New York latitude and longitude values \n",
    "ny_latitude = 40.73\n",
    "ny_longitude = -73.93\n",
    "\n",
    "ny_map = folium.Map(location=[ny_latitude, ny_longitude], zoom_start=11) #for black and white view: tiles='Stamen Toner'\n",
    "\n",
    "ny_map"
   ]
  },
  {
   "cell_type": "markdown",
   "metadata": {},
   "source": [
    "Check missing values:"
   ]
  },
  {
   "cell_type": "code",
   "execution_count": 7,
   "metadata": {},
   "outputs": [
    {
     "name": "stdout",
     "output_type": "stream",
     "text": [
      "created_date\n",
      "False    1331346\n",
      "Name: created_date, dtype: int64\n",
      "\n",
      "unique_key\n",
      "False    1331346\n",
      "Name: unique_key, dtype: int64\n",
      "\n",
      "complaint_type\n",
      "False    1331346\n",
      "Name: complaint_type, dtype: int64\n",
      "\n",
      "incident_zip\n",
      "False    1324215\n",
      "True        7131\n",
      "Name: incident_zip, dtype: int64\n",
      "\n",
      "incident_address\n",
      "False    1331346\n",
      "Name: incident_address, dtype: int64\n",
      "\n",
      "street_name\n",
      "False    1331346\n",
      "Name: street_name, dtype: int64\n",
      "\n",
      "address_type\n",
      "False    1324558\n",
      "True        6788\n",
      "Name: address_type, dtype: int64\n",
      "\n",
      "city\n",
      "False    1324358\n",
      "True        6988\n",
      "Name: city, dtype: int64\n",
      "\n",
      "resolution_description\n",
      "False    1331266\n",
      "True          80\n",
      "Name: resolution_description, dtype: int64\n",
      "\n",
      "borough\n",
      "False    1331346\n",
      "Name: borough, dtype: int64\n",
      "\n",
      "latitude\n",
      "False    1265970\n",
      "True       65376\n",
      "Name: latitude, dtype: int64\n",
      "\n",
      "longitude\n",
      "False    1265970\n",
      "True       65376\n",
      "Name: longitude, dtype: int64\n",
      "\n",
      "closed_date\n",
      "False    1326402\n",
      "True        4944\n",
      "Name: closed_date, dtype: int64\n",
      "\n",
      "location_type\n",
      "False    1331346\n",
      "Name: location_type, dtype: int64\n",
      "\n"
     ]
    }
   ],
   "source": [
    "missing_data_311_top_complaint= df_311_top_complaint.isnull()\n",
    "\n",
    "for column in missing_data_311_top_complaint.columns.values.tolist():\n",
    "    print(column)\n",
    "    print (missing_data_311_top_complaint[column].value_counts())\n",
    "    print(\"\") \n"
   ]
  },
  {
   "cell_type": "markdown",
   "metadata": {},
   "source": [
    "Removing NaN's:"
   ]
  },
  {
   "cell_type": "code",
   "execution_count": 8,
   "metadata": {},
   "outputs": [],
   "source": [
    "df_311_true_values = df_311_top_complaint.dropna()\n"
   ]
  },
  {
   "cell_type": "markdown",
   "metadata": {},
   "source": [
    "Plot a bar graph to see complaint distribution based on borough:"
   ]
  },
  {
   "cell_type": "code",
   "execution_count": 18,
   "metadata": {},
   "outputs": [
    {
     "data": {
      "image/png": "[encoded data removed]",
      "text/plain": [
       "<Figure size 1008x720 with 1 Axes>"
      ]
     },
     "metadata": {
      "needs_background": "light"
     },
     "output_type": "display_data"
    }
   ],
   "source": [
    "df_311_borough_type = df_311_true_values['borough'].value_counts()\n",
    "df_311_borough_type.sort_values(ascending = True, inplace =True)\n",
    "total_borough = df_311_borough_type.sum()\n",
    "\n",
    "df_311_borough_type.plot(kind = 'barh', figsize = (14, 10))\n",
    "\n",
    "for index, value in enumerate(df_311_borough_type):\n",
    "    label = '{}%'.format(round((value/total_borough)*100, 2)) \n",
    "    plt.annotate(label, xy = (value - 25000, index- 0.05), color = 'white')\n",
    "\n",
    "plt.title('Percentage of HEAT/HOT WATER complaint based on borough', size=15)\n",
    "plt.xlabel('Number of complaint', size= 12)\n",
    "plt.show()"
   ]
  },
  {
   "cell_type": "markdown",
   "metadata": {},
   "source": [
    "Select top 15 zip codes. Plot a bar graph to see complaint distribution based on zip code:"
   ]
  },
  {
   "cell_type": "code",
   "execution_count": 17,
   "metadata": {},
   "outputs": [
    {
     "data": {
      "image/png": "[encoded data removed]",
      "text/plain": [
       "<Figure size 1008x720 with 1 Axes>"
      ]
     },
     "metadata": {
      "needs_background": "light"
     },
     "output_type": "display_data"
    }
   ],
   "source": [
    "#select top 15 zip codes\n",
    "df_311_incident_zip_type = df_311_true_values['incident_zip'].value_counts().head(15)\n",
    "df_311_incident_zip_type.sort_values(ascending = True, inplace =True)\n",
    "total_incident_zip = df_311_incident_zip_type.sum()\n",
    "\n",
    "df_311_incident_zip_type.plot(kind = 'barh', figsize = (14, 10))    \n",
    "    \n",
    "plt.title('Top 15 zip codes with the biggest amount of HEAT/HOT WATER complaint', size=15)\n",
    "plt.xlabel('Number of complaint',size=12)\n",
    "plt.ylabel('Zip Codes',size=12)\n",
    "plt.show()"
   ]
  },
  {
   "cell_type": "markdown",
   "metadata": {},
   "source": [
    "Select top 15 streets. Plot a bar graph to see complaint distribution based on street:"
   ]
  },
  {
   "cell_type": "code",
   "execution_count": 22,
   "metadata": {},
   "outputs": [
    {
     "data": {
      "image/png": "[encoded data removed]",
      "text/plain": [
       "<Figure size 1008x720 with 1 Axes>"
      ]
     },
     "metadata": {
      "needs_background": "light"
     },
     "output_type": "display_data"
    }
   ],
   "source": [
    "#select top 15 streets\n",
    "df_311_street_type = df_311_true_values.groupby(['borough'])\n",
    "df_311_street_type = df_311_street_type['street_name'].value_counts().sort_values(ascending = False).head(15)\n",
    "df_311_street_type.sort_values(ascending = True, inplace =True)\n",
    "\n",
    "df_311_street_type.plot(kind = 'barh', figsize = (14, 10))    \n",
    "    \n",
    "plt.title('Top 15 streets with the biggest amount of HEAT/HOT WATER complaint', size=15)\n",
    "plt.xlabel('Number of complaint',size=12)\n",
    "plt.ylabel('Street',size=12)\n",
    "plt.show()\n"
   ]
  },
  {
   "cell_type": "markdown",
   "metadata": {},
   "source": [
    "## Conclusion\n",
    "\n",
    "List of areas that *Department of Housing Preservation* and *Development of New York City* should focusing first. \n",
    "All 3 sections are listed in order of priority.\n",
    "\n",
    "\n",
    "In terms of borough, they should focus on:\n",
    "\n",
    "<ol>\n",
    "    <li>Bronx</li>\n",
    "    <li>Brooklyn</li>\n",
    "    <li>Manhattan</li>\n",
    "    <li>Queens</li>\n",
    "    <li>Staten Island</li>\n",
    "</ol>\n",
    "\n",
    "\n",
    "In terms of zip codes, they can narrow the focus on:\n",
    "\n",
    "<ol>\n",
    "    <li>11226.0</li>\n",
    "    <li>10458.0</li>\n",
    "    <li>10467.0</li>\n",
    "    <li>10453.0</li>\n",
    "    <li>10468.0</li>\n",
    "    <li>10452.0</li>\n",
    "    <li>10031.0</li>\n",
    "    <li>10457.0</li>\n",
    "    <li>10462.0</li>\n",
    "    <li>11225.0</li>\n",
    "    <li>11213.0</li>\n",
    "    <li>10040.0</li>\n",
    "    <li>10472.0</li>\n",
    "    <li>10456.0</li>\n",
    "    <li>10033.0</li>\n",
    "</ol>\n",
    "\n",
    "\n",
    "Lastly in terms of streets, they can narrow the focus further more on:\n",
    "\n",
    "<ol>\n",
    "    <li>GRAND CONCOURSE, BRONX</li> \n",
    "    <li>BROADWAY, MANHATTAN</li>\n",
    "    <li>OCEAN AVENUE, BROOKLYN</li>\n",
    "    <li>MORRIS AVENUE, BRONX</li>\n",
    "    <li>ELMHURST AVENUE, QUEENS</li>\n",
    "    <li>BOYNTON AVENUE, BRONX</li>\n",
    "    <li>ST NICHOLAS AVENUE, MANHATTAN</li>\n",
    "    <li>AMSTERDAM AVENUE, MANHATTAN</li>\n",
    "    <li>DR M L KING JR BOULEVARD, BRONX</li>\n",
    "    <li>OCEAN PARKWAY, BROOKLYN</li>\n",
    "    <li>TIEBOUT AVENUE, BRONX</li>\n",
    "    <li>ARDEN STREET, MANHATTAN</li>\n",
    "    <li>DECATUR AVENUE, BRONX</li>\n",
    "    <li>SEDGWICK AVENUE, BRONX</li>\n",
    "    <li>CRESTON AVENUE, BRONX</li>\n",
    "</ol>"
   ]
  },
  {
   "cell_type": "code",
   "execution_count": null,
   "metadata": {},
   "outputs": [],
   "source": []
  }
 ],
 "metadata": {
  "kernelspec": {
   "display_name": "Python 3",
   "language": "python",
   "name": "python3"
  },
  "language_info": {
   "codemirror_mode": {
    "name": "ipython",
    "version": 3
   },
   "file_extension": ".py",
   "mimetype": "text/x-python",
   "name": "python",
   "nbconvert_exporter": "python",
   "pygments_lexer": "ipython3",
   "version": "3.8.3"
  }
 },
 "nbformat": 4,
 "nbformat_minor": 4
}
